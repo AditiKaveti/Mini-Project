{
  "nbformat": 4,
  "nbformat_minor": 0,
  "metadata": {
    "colab": {
      "name": "Mini project.ipynb",
      "provenance": [],
      "authorship_tag": "ABX9TyNSgxz2W7ex8TFrWb/lO+WZ",
      "include_colab_link": true
    },
    "kernelspec": {
      "name": "python3",
      "display_name": "Python 3"
    },
    "language_info": {
      "name": "python"
    }
  },
  "cells": [
    {
      "cell_type": "markdown",
      "metadata": {
        "id": "view-in-github",
        "colab_type": "text"
      },
      "source": [
        "<a href=\"https://colab.research.google.com/github/AditiKaveti/Mini-Project/blob/main/Mini_project.ipynb\" target=\"_parent\"><img src=\"https://colab.research.google.com/assets/colab-badge.svg\" alt=\"Open In Colab\"/></a>"
      ]
    },
    {
      "cell_type": "code",
      "metadata": {
        "colab": {
          "base_uri": "https://localhost:8080/"
        },
        "id": "e-5V3RuSpdHC",
        "outputId": "5683721d-0d7e-4dd6-fc89-6eb1a3baddb4"
      },
      "source": [
        "!pip install ipython-autotime\n",
        "%load_ext autotime"
      ],
      "execution_count": 1,
      "outputs": [
        {
          "output_type": "stream",
          "text": [
            "Collecting ipython-autotime\n",
            "  Downloading https://files.pythonhosted.org/packages/b4/c9/b413a24f759641bc27ef98c144b590023c8038dfb8a3f09e713e9dff12c1/ipython_autotime-0.3.1-py2.py3-none-any.whl\n",
            "Requirement already satisfied: ipython in /usr/local/lib/python3.7/dist-packages (from ipython-autotime) (5.5.0)\n",
            "Requirement already satisfied: setuptools>=18.5 in /usr/local/lib/python3.7/dist-packages (from ipython->ipython-autotime) (54.1.2)\n",
            "Requirement already satisfied: pexpect; sys_platform != \"win32\" in /usr/local/lib/python3.7/dist-packages (from ipython->ipython-autotime) (4.8.0)\n",
            "Requirement already satisfied: pygments in /usr/local/lib/python3.7/dist-packages (from ipython->ipython-autotime) (2.6.1)\n",
            "Requirement already satisfied: pickleshare in /usr/local/lib/python3.7/dist-packages (from ipython->ipython-autotime) (0.7.5)\n",
            "Requirement already satisfied: traitlets>=4.2 in /usr/local/lib/python3.7/dist-packages (from ipython->ipython-autotime) (5.0.5)\n",
            "Requirement already satisfied: simplegeneric>0.8 in /usr/local/lib/python3.7/dist-packages (from ipython->ipython-autotime) (0.8.1)\n",
            "Requirement already satisfied: prompt-toolkit<2.0.0,>=1.0.4 in /usr/local/lib/python3.7/dist-packages (from ipython->ipython-autotime) (1.0.18)\n",
            "Requirement already satisfied: decorator in /usr/local/lib/python3.7/dist-packages (from ipython->ipython-autotime) (4.4.2)\n",
            "Requirement already satisfied: ptyprocess>=0.5 in /usr/local/lib/python3.7/dist-packages (from pexpect; sys_platform != \"win32\"->ipython->ipython-autotime) (0.7.0)\n",
            "Requirement already satisfied: ipython-genutils in /usr/local/lib/python3.7/dist-packages (from traitlets>=4.2->ipython->ipython-autotime) (0.2.0)\n",
            "Requirement already satisfied: wcwidth in /usr/local/lib/python3.7/dist-packages (from prompt-toolkit<2.0.0,>=1.0.4->ipython->ipython-autotime) (0.2.5)\n",
            "Requirement already satisfied: six>=1.9.0 in /usr/local/lib/python3.7/dist-packages (from prompt-toolkit<2.0.0,>=1.0.4->ipython->ipython-autotime) (1.15.0)\n",
            "Installing collected packages: ipython-autotime\n",
            "Successfully installed ipython-autotime-0.3.1\n",
            "time: 2.77 ms (started: 2021-03-30 13:52:36 +00:00)\n"
          ],
          "name": "stdout"
        }
      ]
    },
    {
      "cell_type": "code",
      "metadata": {
        "colab": {
          "base_uri": "https://localhost:8080/"
        },
        "id": "PtexHBUrEeXj",
        "outputId": "20eef813-576a-4f0a-ef29-efd6edbf0214"
      },
      "source": [
        "!pip install bing-image-downloader"
      ],
      "execution_count": 2,
      "outputs": [
        {
          "output_type": "stream",
          "text": [
            "Collecting bing-image-downloader\n",
            "  Downloading https://files.pythonhosted.org/packages/0d/bf/537a61030b84ae4cd5022d5c7b014fd9bc3ce7c02358919153a6658a61d3/bing_image_downloader-1.0.4-py3-none-any.whl\n",
            "Installing collected packages: bing-image-downloader\n",
            "Successfully installed bing-image-downloader-1.0.4\n",
            "time: 2.83 s (started: 2021-03-30 13:52:36 +00:00)\n"
          ],
          "name": "stdout"
        }
      ]
    },
    {
      "cell_type": "code",
      "metadata": {
        "colab": {
          "base_uri": "https://localhost:8080/"
        },
        "id": "jpBVO7pDEkKn",
        "outputId": "fbb6e990-81ac-49ed-a729-a767f1d8f992"
      },
      "source": [
        "!mkdir images"
      ],
      "execution_count": 3,
      "outputs": [
        {
          "output_type": "stream",
          "text": [
            "time: 112 ms (started: 2021-03-30 13:52:39 +00:00)\n"
          ],
          "name": "stdout"
        }
      ]
    },
    {
      "cell_type": "code",
      "metadata": {
        "colab": {
          "base_uri": "https://localhost:8080/"
        },
        "id": "PwlsPTxxEpQ2",
        "outputId": "69e25dc7-91ee-4922-effd-24854572d08c"
      },
      "source": [
        "from bing_image_downloader import downloader\n",
        "img = downloader.download(\"Cheesy Pizza\",limit = 30,output_dir='images',adult_filter_off=True)"
      ],
      "execution_count": 4,
      "outputs": [
        {
          "output_type": "stream",
          "text": [
            "\n",
            "\n",
            "[!!]Indexing page: 1\n",
            "\n",
            "[%] Indexed 12 Images on Page 1.\n",
            "\n",
            "===============================================\n",
            "\n",
            "[%] Downloading Image #1 from https://www.thegunnysack.com/wp-content/uploads/2015/12/Cheesy-Pizza-Soup.jpg\n",
            "[%] File Downloaded !\n",
            "\n",
            "[%] Downloading Image #2 from https://www.nobiggie.net/wp-content/uploads/2015/08/Turkey-bacon-grilled-chicken-25-easy-camping-recipes-NoBiggie.net_.jpg\n",
            "[%] File Downloaded !\n",
            "\n",
            "[%] Downloading Image #3 from https://www.the-girl-who-ate-everything.com/wp-content/uploads/2018/01/pepperoni-pizza-bundt-002.jpg\n",
            "[%] File Downloaded !\n",
            "\n",
            "[%] Downloading Image #4 from https://thebestblogrecipes.com/wp-content/uploads/2017/05/chocolate-chip-cookie-cups.jpg\n",
            "[%] File Downloaded !\n",
            "\n",
            "[%] Downloading Image #5 from https://data.thefeedfeed.com/recommended/15224403475abe989ba7585.jpg\n",
            "[%] File Downloaded !\n",
            "\n",
            "[%] Downloading Image #6 from https://letsdishrecipes.com/wp-content/uploads/2018/08/instant-pot-taco-pasta-recipe-vegetarian-3195.jpg\n",
            "[%] File Downloaded !\n",
            "\n",
            "[%] Downloading Image #7 from https://i.ytimg.com/vi/BEkrkCKVlMs/maxresdefault.jpg\n",
            "[%] File Downloaded !\n",
            "\n",
            "[%] Downloading Image #8 from http://i.ytimg.com/vi/W_qeoazPg_g/hqdefault.jpg\n",
            "[%] File Downloaded !\n",
            "\n",
            "[%] Downloading Image #9 from https://cdn.vox-cdn.com/thumbor/BGi2utm_x5kyUGkKJJNPrWkEqdE=/0x144:2000x1191/fit-in/1200x630/cdn.vox-cdn.com/uploads/chorus_asset/file/19366191/LeGarage_PChang_9297.jpg\n",
            "[%] File Downloaded !\n",
            "\n",
            "[%] Downloading Image #10 from https://mylifeandkids.com/wp-content/uploads/2016/04/30-Recipes-Kids-Can-Cook-Themselves.jpg\n",
            "[%] File Downloaded !\n",
            "\n",
            "[%] Downloading Image #11 from https://www.dinneratthezoo.com/wp-content/uploads/2018/12/spinach-dip-short-pin.jpg\n",
            "[!] Issue getting: https://www.dinneratthezoo.com/wp-content/uploads/2018/12/spinach-dip-short-pin.jpg\n",
            "[!] Error:: HTTP Error 503: Service Temporarily Unavailable\n",
            "[%] Downloading Image #11 from http://bacontoday.com/wp-content/uploads/2014/06/Sweet-and-Savory-Cheesy-Bacon-Wrapped-Puff-Pastry-Twist-151.jpg\n",
            "[%] File Downloaded !\n",
            "\n",
            "\n",
            "\n",
            "[!!]Indexing page: 2\n",
            "\n",
            "[%] Indexed 12 Images on Page 2.\n",
            "\n",
            "===============================================\n",
            "\n",
            "[%] Downloading Image #12 from https://www.thegunnysack.com/wp-content/uploads/2015/12/Cheesy-Pizza-Soup.jpg\n",
            "[%] File Downloaded !\n",
            "\n",
            "[%] Downloading Image #13 from https://www.nobiggie.net/wp-content/uploads/2015/08/Turkey-bacon-grilled-chicken-25-easy-camping-recipes-NoBiggie.net_.jpg\n",
            "[%] File Downloaded !\n",
            "\n",
            "[%] Downloading Image #14 from https://www.the-girl-who-ate-everything.com/wp-content/uploads/2018/01/pepperoni-pizza-bundt-002.jpg\n",
            "[%] File Downloaded !\n",
            "\n",
            "[%] Downloading Image #15 from https://thebestblogrecipes.com/wp-content/uploads/2017/05/chocolate-chip-cookie-cups.jpg\n",
            "[%] File Downloaded !\n",
            "\n",
            "[%] Downloading Image #16 from https://data.thefeedfeed.com/recommended/15224403475abe989ba7585.jpg\n",
            "[%] File Downloaded !\n",
            "\n",
            "[%] Downloading Image #17 from https://letsdishrecipes.com/wp-content/uploads/2018/08/instant-pot-taco-pasta-recipe-vegetarian-3195.jpg\n",
            "[%] File Downloaded !\n",
            "\n",
            "[%] Downloading Image #18 from https://i.ytimg.com/vi/BEkrkCKVlMs/maxresdefault.jpg\n",
            "[%] File Downloaded !\n",
            "\n",
            "[%] Downloading Image #19 from http://i.ytimg.com/vi/W_qeoazPg_g/hqdefault.jpg\n",
            "[%] File Downloaded !\n",
            "\n",
            "[%] Downloading Image #20 from https://cdn.vox-cdn.com/thumbor/BGi2utm_x5kyUGkKJJNPrWkEqdE=/0x144:2000x1191/fit-in/1200x630/cdn.vox-cdn.com/uploads/chorus_asset/file/19366191/LeGarage_PChang_9297.jpg\n",
            "[%] File Downloaded !\n",
            "\n",
            "[%] Downloading Image #21 from https://mylifeandkids.com/wp-content/uploads/2016/04/30-Recipes-Kids-Can-Cook-Themselves.jpg\n",
            "[%] File Downloaded !\n",
            "\n",
            "[%] Downloading Image #22 from https://www.dinneratthezoo.com/wp-content/uploads/2018/12/spinach-dip-short-pin.jpg\n",
            "[!] Issue getting: https://www.dinneratthezoo.com/wp-content/uploads/2018/12/spinach-dip-short-pin.jpg\n",
            "[!] Error:: HTTP Error 503: Service Temporarily Unavailable\n",
            "[%] Downloading Image #22 from http://bacontoday.com/wp-content/uploads/2014/06/Sweet-and-Savory-Cheesy-Bacon-Wrapped-Puff-Pastry-Twist-151.jpg\n",
            "[%] File Downloaded !\n",
            "\n",
            "\n",
            "\n",
            "[!!]Indexing page: 3\n",
            "\n",
            "[%] Indexed 11 Images on Page 3.\n",
            "\n",
            "===============================================\n",
            "\n",
            "[%] Downloading Image #23 from https://www.the-girl-who-ate-everything.com/wp-content/uploads/2018/01/pepperoni-pizza-bundt-002.jpg\n",
            "[%] File Downloaded !\n",
            "\n",
            "[%] Downloading Image #24 from https://www.nobiggie.net/wp-content/uploads/2015/08/Turkey-bacon-grilled-chicken-25-easy-camping-recipes-NoBiggie.net_.jpg\n",
            "[%] File Downloaded !\n",
            "\n",
            "[%] Downloading Image #25 from https://data.thefeedfeed.com/recommended/15224403475abe989ba7585.jpg\n",
            "[%] File Downloaded !\n",
            "\n",
            "[%] Downloading Image #26 from https://cdn.vox-cdn.com/thumbor/BGi2utm_x5kyUGkKJJNPrWkEqdE=/0x144:2000x1191/fit-in/1200x630/cdn.vox-cdn.com/uploads/chorus_asset/file/19366191/LeGarage_PChang_9297.jpg\n",
            "[%] File Downloaded !\n",
            "\n",
            "[%] Downloading Image #27 from https://mylifeandkids.com/wp-content/uploads/2016/04/30-Recipes-Kids-Can-Cook-Themselves.jpg\n",
            "[%] File Downloaded !\n",
            "\n",
            "[%] Downloading Image #28 from https://i.ytimg.com/vi/BEkrkCKVlMs/maxresdefault.jpg\n",
            "[%] File Downloaded !\n",
            "\n",
            "[%] Downloading Image #29 from https://letsdishrecipes.com/wp-content/uploads/2018/08/instant-pot-taco-pasta-recipe-vegetarian-3195.jpg\n",
            "[%] File Downloaded !\n",
            "\n",
            "[%] Downloading Image #30 from https://www.dinneratthezoo.com/wp-content/uploads/2018/12/spinach-dip-short-pin.jpg\n",
            "[!] Issue getting: https://www.dinneratthezoo.com/wp-content/uploads/2018/12/spinach-dip-short-pin.jpg\n",
            "[!] Error:: HTTP Error 503: Service Temporarily Unavailable\n",
            "[%] Downloading Image #30 from http://bacontoday.com/wp-content/uploads/2014/06/Sweet-and-Savory-Cheesy-Bacon-Wrapped-Puff-Pastry-Twist-151.jpg\n",
            "[%] File Downloaded !\n",
            "\n",
            "\n",
            "\n",
            "[%] Done. Downloaded 30 images.\n",
            "\n",
            "===============================================\n",
            "\n",
            "time: 27.7 s (started: 2021-03-30 13:52:39 +00:00)\n"
          ],
          "name": "stdout"
        }
      ]
    },
    {
      "cell_type": "code",
      "metadata": {
        "colab": {
          "base_uri": "https://localhost:8080/"
        },
        "id": "wMFLh2jsFiDQ",
        "outputId": "9261b324-e831-4cf2-db5a-5f9e40eaa5df"
      },
      "source": [
        "from bing_image_downloader import downloader\n",
        "img = downloader.download(\"basketball ball\",limit = 30,output_dir='images',adult_filter_off=True)"
      ],
      "execution_count": 5,
      "outputs": [
        {
          "output_type": "stream",
          "text": [
            "\n",
            "\n",
            "[!!]Indexing page: 1\n",
            "\n",
            "[%] Indexed 12 Images on Page 1.\n",
            "\n",
            "===============================================\n",
            "\n",
            "[%] Downloading Image #1 from http://www.jumpusa.com/spalding_nbaball_hires.jpg\n",
            "[%] File Downloaded !\n",
            "\n",
            "[%] Downloading Image #2 from http://ww1.prweb.com/prfiles/2011/03/24/4842844/GameBall.jpg\n",
            "[%] File Downloaded !\n",
            "\n",
            "[%] Downloading Image #3 from http://upload.wikimedia.org/wikipedia/commons/a/af/Basketball_game.jpg\n",
            "[%] File Downloaded !\n",
            "\n",
            "[%] Downloading Image #4 from http://www.bestbasketballball.com/wp-content/uploads/Best-Outdoor-Basketball1.jpg\n",
            "[%] File Downloaded !\n",
            "\n",
            "[%] Downloading Image #5 from http://2.bp.blogspot.com/-h-ZGGSEwCbM/Tjl6nXUiutI/AAAAAAAAAFw/z3jzPlUyDpU/s1600/basketball.jpg\n",
            "[%] File Downloaded !\n",
            "\n",
            "[%] Downloading Image #6 from https://weneedfun.com/wp-content/uploads/2016/07/Basketball-Wallpapers-101.jpg\n",
            "[%] File Downloaded !\n",
            "\n",
            "[%] Downloading Image #7 from http://my-free-vector-art.com/vectors_jpg/BASKETBALL.jpg\n",
            "[%] File Downloaded !\n",
            "\n",
            "[%] Downloading Image #8 from http://blog.chron.com/ultimaterockets/files/2013/04/Rockets-Lakers-Basketball.JPEG-08bca.jpg\n",
            "[%] File Downloaded !\n",
            "\n",
            "[%] Downloading Image #9 from http://homesfeed.com/wp-content/uploads/2018/02/maple-finishing-indoor-basketball-court-design-blue-grey-walls.jpg\n",
            "[%] File Downloaded !\n",
            "\n",
            "[%] Downloading Image #10 from http://www.sportspectator.com/fancentral/basketball/basketball_court.gif\n",
            "[%] File Downloaded !\n",
            "\n",
            "[%] Downloading Image #11 from http://www.toledoblade.com/image/2012/07/31/London-Olympics-Basketball-Men.jpg\n",
            "[%] File Downloaded !\n",
            "\n",
            "[%] Downloading Image #12 from http://www.childrens-drawings.com/wp-content/uploads/2010/01/basketball-drawing.jpg\n",
            "[%] File Downloaded !\n",
            "\n",
            "\n",
            "\n",
            "[!!]Indexing page: 2\n",
            "\n",
            "[%] Indexed 12 Images on Page 2.\n",
            "\n",
            "===============================================\n",
            "\n",
            "[%] Downloading Image #13 from http://www.jumpusa.com/spalding_nbaball_hires.jpg\n",
            "[%] File Downloaded !\n",
            "\n",
            "[%] Downloading Image #14 from http://ww1.prweb.com/prfiles/2011/03/24/4842844/GameBall.jpg\n",
            "[%] File Downloaded !\n",
            "\n",
            "[%] Downloading Image #15 from http://upload.wikimedia.org/wikipedia/commons/a/af/Basketball_game.jpg\n",
            "[%] File Downloaded !\n",
            "\n",
            "[%] Downloading Image #16 from http://www.bestbasketballball.com/wp-content/uploads/Best-Outdoor-Basketball1.jpg\n",
            "[%] File Downloaded !\n",
            "\n",
            "[%] Downloading Image #17 from http://2.bp.blogspot.com/-h-ZGGSEwCbM/Tjl6nXUiutI/AAAAAAAAAFw/z3jzPlUyDpU/s1600/basketball.jpg\n",
            "[%] File Downloaded !\n",
            "\n",
            "[%] Downloading Image #18 from https://weneedfun.com/wp-content/uploads/2016/07/Basketball-Wallpapers-101.jpg\n",
            "[%] File Downloaded !\n",
            "\n",
            "[%] Downloading Image #19 from http://my-free-vector-art.com/vectors_jpg/BASKETBALL.jpg\n",
            "[%] File Downloaded !\n",
            "\n",
            "[%] Downloading Image #20 from http://blog.chron.com/ultimaterockets/files/2013/04/Rockets-Lakers-Basketball.JPEG-08bca.jpg\n",
            "[%] File Downloaded !\n",
            "\n",
            "[%] Downloading Image #21 from http://homesfeed.com/wp-content/uploads/2018/02/maple-finishing-indoor-basketball-court-design-blue-grey-walls.jpg\n",
            "[%] File Downloaded !\n",
            "\n",
            "[%] Downloading Image #22 from http://www.sportspectator.com/fancentral/basketball/basketball_court.gif\n",
            "[%] File Downloaded !\n",
            "\n",
            "[%] Downloading Image #23 from http://www.toledoblade.com/image/2012/07/31/London-Olympics-Basketball-Men.jpg\n",
            "[%] File Downloaded !\n",
            "\n",
            "[%] Downloading Image #24 from http://www.childrens-drawings.com/wp-content/uploads/2010/01/basketball-drawing.jpg\n",
            "[%] File Downloaded !\n",
            "\n",
            "\n",
            "\n",
            "[!!]Indexing page: 3\n",
            "\n",
            "[%] Indexed 11 Images on Page 3.\n",
            "\n",
            "===============================================\n",
            "\n",
            "[%] Downloading Image #25 from http://ww1.prweb.com/prfiles/2011/03/24/4842844/GameBall.jpg\n",
            "[%] File Downloaded !\n",
            "\n",
            "[%] Downloading Image #26 from http://upload.wikimedia.org/wikipedia/commons/a/af/Basketball_game.jpg\n",
            "[%] File Downloaded !\n",
            "\n",
            "[%] Downloading Image #27 from http://www.bestbasketballball.com/wp-content/uploads/Best-Outdoor-Basketball1.jpg\n",
            "[%] File Downloaded !\n",
            "\n",
            "[%] Downloading Image #28 from http://2.bp.blogspot.com/-h-ZGGSEwCbM/Tjl6nXUiutI/AAAAAAAAAFw/z3jzPlUyDpU/s1600/basketball.jpg\n",
            "[%] File Downloaded !\n",
            "\n",
            "[%] Downloading Image #29 from https://weneedfun.com/wp-content/uploads/2016/07/Basketball-Wallpapers-101.jpg\n",
            "[%] File Downloaded !\n",
            "\n",
            "[%] Downloading Image #30 from http://my-free-vector-art.com/vectors_jpg/BASKETBALL.jpg\n",
            "[%] File Downloaded !\n",
            "\n",
            "\n",
            "\n",
            "[%] Done. Downloaded 30 images.\n",
            "\n",
            "===============================================\n",
            "\n",
            "time: 30.4 s (started: 2021-03-30 13:53:07 +00:00)\n"
          ],
          "name": "stdout"
        }
      ]
    },
    {
      "cell_type": "code",
      "metadata": {
        "colab": {
          "base_uri": "https://localhost:8080/"
        },
        "id": "1P2m-MwoF0hh",
        "outputId": "74a0eaf9-5ec7-41a7-ea65-d6699c531b3a"
      },
      "source": [
        "from bing_image_downloader import downloader\n",
        "img = downloader.download(\"Running Shoes\",limit = 30,output_dir='images',adult_filter_off=True)"
      ],
      "execution_count": 6,
      "outputs": [
        {
          "output_type": "stream",
          "text": [
            "\n",
            "\n",
            "[!!]Indexing page: 1\n",
            "\n",
            "[%] Indexed 12 Images on Page 1.\n",
            "\n",
            "===============================================\n",
            "\n",
            "[%] Downloading Image #1 from http://www.northernrunner.com/images/products/zoom/1314281458-60403300.jpg\n",
            "[%] File Downloaded !\n",
            "\n",
            "[%] Downloading Image #2 from http://www.northernrunner.com/images/products/zoom/1331398481-36215800.jpg\n",
            "[%] File Downloaded !\n",
            "\n",
            "[%] Downloading Image #3 from http://www.northernrunner.com/images/products/zoom/1314370343-06169500.jpg\n",
            "[%] File Downloaded !\n",
            "\n",
            "[%] Downloading Image #4 from http://www.northernrunner.com/images/products/zoom/1286901443-92776800.jpg\n",
            "[%] File Downloaded !\n",
            "\n",
            "[%] Downloading Image #5 from http://www.backcountry.com/images/items/900/MIZ/MIZ0043/ROREGRSH.jpg\n",
            "[%] File Downloaded !\n",
            "\n",
            "[%] Downloading Image #6 from http://www.northernrunner.com/images/products/zoom/1296560729-77333400.jpg\n",
            "[%] File Downloaded !\n",
            "\n",
            "[%] Downloading Image #7 from http://www.freshairjunkie.com/wp-content/uploads/2012/10/HiRes-Salomon-SnowCross-UseA.jpg\n",
            "[%] File Downloaded !\n",
            "\n",
            "[%] Downloading Image #8 from http://www.decalsplanet.com/img_b/vinyl-decal-sticker-14662.jpg\n",
            "[%] File Downloaded !\n",
            "\n",
            "[%] Downloading Image #9 from http://images.sportsshoes.com/product/A/ADI4649/ADI4649_1000_1.jpg\n",
            "[%] File Downloaded !\n",
            "\n",
            "[%] Downloading Image #10 from http://images.sportsshoes.com/product/B/BRO792/BRO792_800_3.jpg\n",
            "[%] File Downloaded !\n",
            "\n",
            "[%] Downloading Image #11 from http://images.sportsshoes.com/product/R/REE2212/REE2212_1000_1.jpg\n",
            "[%] File Downloaded !\n",
            "\n",
            "[%] Downloading Image #12 from http://www.clker.com/cliparts/5/d/X/Z/e/4/running-shoe-with-wings-hi.png\n",
            "[%] File Downloaded !\n",
            "\n",
            "\n",
            "\n",
            "[!!]Indexing page: 2\n",
            "\n",
            "[%] Indexed 12 Images on Page 2.\n",
            "\n",
            "===============================================\n",
            "\n",
            "[%] Downloading Image #13 from http://www.northernrunner.com/images/products/zoom/1314281458-60403300.jpg\n",
            "[%] File Downloaded !\n",
            "\n",
            "[%] Downloading Image #14 from http://www.northernrunner.com/images/products/zoom/1331398481-36215800.jpg\n",
            "[%] File Downloaded !\n",
            "\n",
            "[%] Downloading Image #15 from http://www.northernrunner.com/images/products/zoom/1314370343-06169500.jpg\n",
            "[%] File Downloaded !\n",
            "\n",
            "[%] Downloading Image #16 from http://www.northernrunner.com/images/products/zoom/1286901443-92776800.jpg\n",
            "[%] File Downloaded !\n",
            "\n",
            "[%] Downloading Image #17 from http://www.backcountry.com/images/items/900/MIZ/MIZ0043/ROREGRSH.jpg\n",
            "[%] File Downloaded !\n",
            "\n",
            "[%] Downloading Image #18 from http://www.northernrunner.com/images/products/zoom/1296560729-77333400.jpg\n",
            "[%] File Downloaded !\n",
            "\n",
            "[%] Downloading Image #19 from http://www.freshairjunkie.com/wp-content/uploads/2012/10/HiRes-Salomon-SnowCross-UseA.jpg\n",
            "[%] File Downloaded !\n",
            "\n",
            "[%] Downloading Image #20 from http://www.decalsplanet.com/img_b/vinyl-decal-sticker-14662.jpg\n",
            "[%] File Downloaded !\n",
            "\n",
            "[%] Downloading Image #21 from http://images.sportsshoes.com/product/A/ADI4649/ADI4649_1000_1.jpg\n",
            "[%] File Downloaded !\n",
            "\n",
            "[%] Downloading Image #22 from http://images.sportsshoes.com/product/B/BRO792/BRO792_800_3.jpg\n",
            "[%] File Downloaded !\n",
            "\n",
            "[%] Downloading Image #23 from http://images.sportsshoes.com/product/R/REE2212/REE2212_1000_1.jpg\n",
            "[%] File Downloaded !\n",
            "\n",
            "[%] Downloading Image #24 from http://www.clker.com/cliparts/5/d/X/Z/e/4/running-shoe-with-wings-hi.png\n",
            "[%] File Downloaded !\n",
            "\n",
            "\n",
            "\n",
            "[!!]Indexing page: 3\n",
            "\n",
            "[%] Indexed 11 Images on Page 3.\n",
            "\n",
            "===============================================\n",
            "\n",
            "[%] Downloading Image #25 from http://www.northernrunner.com/images/products/zoom/1331398481-36215800.jpg\n",
            "[%] File Downloaded !\n",
            "\n",
            "[%] Downloading Image #26 from http://www.northernrunner.com/images/products/zoom/1314370343-06169500.jpg\n",
            "[%] File Downloaded !\n",
            "\n",
            "[%] Downloading Image #27 from http://www.northernrunner.com/images/products/zoom/1286901443-92776800.jpg\n",
            "[%] File Downloaded !\n",
            "\n",
            "[%] Downloading Image #28 from http://www.backcountry.com/images/items/900/MIZ/MIZ0043/ROREGRSH.jpg\n",
            "[%] File Downloaded !\n",
            "\n",
            "[%] Downloading Image #29 from http://www.northernrunner.com/images/products/zoom/1296560729-77333400.jpg\n",
            "[%] File Downloaded !\n",
            "\n",
            "[%] Downloading Image #30 from http://www.freshairjunkie.com/wp-content/uploads/2012/10/HiRes-Salomon-SnowCross-UseA.jpg\n",
            "[%] File Downloaded !\n",
            "\n",
            "\n",
            "\n",
            "[%] Done. Downloaded 30 images.\n",
            "\n",
            "===============================================\n",
            "\n",
            "time: 43.3 s (started: 2021-03-30 13:53:37 +00:00)\n"
          ],
          "name": "stdout"
        }
      ]
    },
    {
      "cell_type": "code",
      "metadata": {
        "colab": {
          "base_uri": "https://localhost:8080/"
        },
        "id": "mEx1I-8sGPjt",
        "outputId": "4c395fd1-de56-476b-8aa8-2165f0eb4ca5"
      },
      "source": [
        "import os\n",
        "import matplotlib.pyplot as plt\n",
        "import numpy as np\n",
        "from skimage.io import imread\n",
        "from skimage.transform import resize\n",
        " \n",
        "target = []\n",
        "images = []\n",
        "flat_data = []\n",
        " \n",
        "DATADIR = '/content/images'\n",
        "CATEGORIES = ['Cheesy Pizza','basketball ball','Running Shoes']\n",
        " \n",
        "for category in CATEGORIES:\n",
        "  class_num = CATEGORIES.index(category)  # Label Encoding the value\n",
        "  path = os.path.join(DATADIR,category)   # Create path to use all the images\n",
        "  for img in os.listdir(path):\n",
        "    img_array = imread(os.path.join(path,img))\n",
        "    #print(img_array.shape)\n",
        "    #plt.imshow(img_array)\n",
        "    img_resized = resize(img_array,(150,150,3))\n",
        "    flat_data.append(img_resized.flatten())\n",
        "    images.append(img_resized)\n",
        "    target.append(class_num)\n",
        " \n",
        "flat_data = np.array(flat_data)\n",
        "target = np.array(target)\n",
        "images = np.array(images)"
      ],
      "execution_count": 7,
      "outputs": [
        {
          "output_type": "stream",
          "text": [
            "time: 24.4 s (started: 2021-03-30 13:54:20 +00:00)\n"
          ],
          "name": "stdout"
        }
      ]
    },
    {
      "cell_type": "code",
      "metadata": {
        "colab": {
          "base_uri": "https://localhost:8080/"
        },
        "id": "dXRzfjgkGwhI",
        "outputId": "06b12ee1-ae04-48a8-834b-bf0d5c6b5d33"
      },
      "source": [
        "flat_data[0]"
      ],
      "execution_count": 8,
      "outputs": [
        {
          "output_type": "execute_result",
          "data": {
            "text/plain": [
              "array([0.92224837, 0.85490196, 0.79215686, ..., 0.03921569, 0.03921569,\n",
              "       0.00784314])"
            ]
          },
          "metadata": {
            "tags": []
          },
          "execution_count": 8
        },
        {
          "output_type": "stream",
          "text": [
            "time: 10.5 ms (started: 2021-03-30 13:54:45 +00:00)\n"
          ],
          "name": "stdout"
        }
      ]
    },
    {
      "cell_type": "code",
      "metadata": {
        "colab": {
          "base_uri": "https://localhost:8080/"
        },
        "id": "oxa4qR5XHC9y",
        "outputId": "3ac8ec66-0e8a-4ef1-8d8e-60e1282654e2"
      },
      "source": [
        "# Reference path : /content/images\n",
        "\n",
        "\n",
        "# Preprossing \n",
        " \n",
        "# 1. Resize\n",
        "# 2. Flatten\n",
        "\n",
        "# Flatten will convert 2D into 1D"
      ],
      "execution_count": 9,
      "outputs": [
        {
          "output_type": "stream",
          "text": [
            "time: 1.8 ms (started: 2021-03-30 13:54:45 +00:00)\n"
          ],
          "name": "stdout"
        }
      ]
    },
    {
      "cell_type": "code",
      "metadata": {
        "colab": {
          "base_uri": "https://localhost:8080/"
        },
        "id": "ZH7bJwxCHXJA",
        "outputId": "1107aad5-0231-4c41-e320-5baeb73cf089"
      },
      "source": [
        "target"
      ],
      "execution_count": 10,
      "outputs": [
        {
          "output_type": "execute_result",
          "data": {
            "text/plain": [
              "array([0, 0, 0, 0, 0, 0, 0, 0, 0, 0, 0, 0, 0, 0, 0, 0, 0, 0, 0, 0, 0, 0,\n",
              "       0, 0, 0, 0, 0, 0, 0, 0, 1, 1, 1, 1, 1, 1, 1, 1, 1, 1, 1, 1, 1, 1,\n",
              "       1, 1, 1, 1, 1, 1, 1, 1, 1, 1, 1, 1, 1, 1, 1, 1, 2, 2, 2, 2, 2, 2,\n",
              "       2, 2, 2, 2, 2, 2, 2, 2, 2, 2, 2, 2, 2, 2, 2, 2, 2, 2, 2, 2, 2, 2,\n",
              "       2, 2])"
            ]
          },
          "metadata": {
            "tags": []
          },
          "execution_count": 10
        },
        {
          "output_type": "stream",
          "text": [
            "time: 6.46 ms (started: 2021-03-30 13:54:45 +00:00)\n"
          ],
          "name": "stdout"
        }
      ]
    },
    {
      "cell_type": "code",
      "metadata": {
        "colab": {
          "base_uri": "https://localhost:8080/",
          "height": 300
        },
        "id": "9CCH9J3SHbPx",
        "outputId": "0f960206-0c3b-4ae8-ef47-69f083176697"
      },
      "source": [
        "unique,count = np.unique(target,return_counts=True)\n",
        "plt.bar(CATEGORIES,count)"
      ],
      "execution_count": 11,
      "outputs": [
        {
          "output_type": "execute_result",
          "data": {
            "text/plain": [
              "<BarContainer object of 3 artists>"
            ]
          },
          "metadata": {
            "tags": []
          },
          "execution_count": 11
        },
        {
          "output_type": "display_data",
          "data": {
            "image/png": "[encoded data removed]",
            "text/plain": [
              "<Figure size 432x288 with 1 Axes>"
            ]
          },
          "metadata": {
            "tags": [],
            "needs_background": "light"
          }
        },
        {
          "output_type": "stream",
          "text": [
            "time: 178 ms (started: 2021-03-30 13:54:45 +00:00)\n"
          ],
          "name": "stdout"
        }
      ]
    },
    {
      "cell_type": "code",
      "metadata": {
        "colab": {
          "base_uri": "https://localhost:8080/"
        },
        "id": "t3HRQ-ZgHe15",
        "outputId": "427189f3-e0e4-4a05-a36c-27c72ae1118d"
      },
      "source": [
        "# Split data into training and testing\n",
        "from sklearn.model_selection import train_test_split\n",
        "x_train,x_test,y_train,y_test = train_test_split(flat_data,target,test_size=0.3,random_state=107) "
      ],
      "execution_count": 12,
      "outputs": [
        {
          "output_type": "stream",
          "text": [
            "time: 198 ms (started: 2021-03-30 13:54:45 +00:00)\n"
          ],
          "name": "stdout"
        }
      ]
    },
    {
      "cell_type": "code",
      "metadata": {
        "colab": {
          "base_uri": "https://localhost:8080/"
        },
        "id": "gZkz3I9XHudh",
        "outputId": "07e8030c-c2f1-4ff6-879a-2781926a0e1f"
      },
      "source": [
        "from sklearn.model_selection import GridSearchCV\n",
        "from sklearn import svm\n",
        "param_grid = [\n",
        "              {'C':[1,10,100,1000],'kernel':['linear']},\n",
        "              {'C':[1,10,100,1000],'gamma':[0.001,0.0001],'kernel':['rbf']},\n",
        "]\n",
        " \n",
        "svc = svm.SVC(probability=True)\n",
        "clf = GridSearchCV(svc,param_grid)\n",
        "clf.fit(x_train,y_train)"
      ],
      "execution_count": 13,
      "outputs": [
        {
          "output_type": "execute_result",
          "data": {
            "text/plain": [
              "GridSearchCV(cv=None, error_score=nan,\n",
              "             estimator=SVC(C=1.0, break_ties=False, cache_size=200,\n",
              "                           class_weight=None, coef0=0.0,\n",
              "                           decision_function_shape='ovr', degree=3,\n",
              "                           gamma='scale', kernel='rbf', max_iter=-1,\n",
              "                           probability=True, random_state=None, shrinking=True,\n",
              "                           tol=0.001, verbose=False),\n",
              "             iid='deprecated', n_jobs=None,\n",
              "             param_grid=[{'C': [1, 10, 100, 1000], 'kernel': ['linear']},\n",
              "                         {'C': [1, 10, 100, 1000], 'gamma': [0.001, 0.0001],\n",
              "                          'kernel': ['rbf']}],\n",
              "             pre_dispatch='2*n_jobs', refit=True, return_train_score=False,\n",
              "             scoring=None, verbose=0)"
            ]
          },
          "metadata": {
            "tags": []
          },
          "execution_count": 13
        },
        {
          "output_type": "stream",
          "text": [
            "time: 1min 24s (started: 2021-03-30 13:54:45 +00:00)\n"
          ],
          "name": "stdout"
        }
      ]
    },
    {
      "cell_type": "code",
      "metadata": {
        "colab": {
          "base_uri": "https://localhost:8080/"
        },
        "id": "I3aa-lBpHzkW",
        "outputId": "b132a73a-17f2-490a-933c-c47da60af167"
      },
      "source": [
        "y_pred = clf.predict(x_test)\n",
        "y_pred"
      ],
      "execution_count": 14,
      "outputs": [
        {
          "output_type": "execute_result",
          "data": {
            "text/plain": [
              "array([1, 0, 0, 0, 0, 2, 0, 0, 0, 2, 0, 1, 2, 0, 1, 2, 2, 2, 1, 1, 2, 1,\n",
              "       0, 2, 0, 2, 1])"
            ]
          },
          "metadata": {
            "tags": []
          },
          "execution_count": 14
        },
        {
          "output_type": "stream",
          "text": [
            "time: 115 ms (started: 2021-03-30 13:56:10 +00:00)\n"
          ],
          "name": "stdout"
        }
      ]
    },
    {
      "cell_type": "code",
      "metadata": {
        "colab": {
          "base_uri": "https://localhost:8080/"
        },
        "id": "FuwqkGiMH8tX",
        "outputId": "dfd54a82-012b-4503-f2c6-3fb85fc5f520"
      },
      "source": [
        "y_test"
      ],
      "execution_count": 15,
      "outputs": [
        {
          "output_type": "execute_result",
          "data": {
            "text/plain": [
              "array([1, 0, 0, 1, 1, 2, 0, 0, 0, 2, 0, 1, 2, 0, 1, 2, 2, 2, 1, 1, 2, 1,\n",
              "       1, 2, 0, 2, 1])"
            ]
          },
          "metadata": {
            "tags": []
          },
          "execution_count": 15
        },
        {
          "output_type": "stream",
          "text": [
            "time: 6.62 ms (started: 2021-03-30 13:56:10 +00:00)\n"
          ],
          "name": "stdout"
        }
      ]
    },
    {
      "cell_type": "code",
      "metadata": {
        "colab": {
          "base_uri": "https://localhost:8080/"
        },
        "id": "xPccmEFTH8m5",
        "outputId": "bf0fbb95-1183-4539-ac26-91a38cdab271"
      },
      "source": [
        "from sklearn.metrics import accuracy_score,confusion_matrix"
      ],
      "execution_count": 16,
      "outputs": [
        {
          "output_type": "stream",
          "text": [
            "time: 1.42 ms (started: 2021-03-30 13:56:10 +00:00)\n"
          ],
          "name": "stdout"
        }
      ]
    },
    {
      "cell_type": "code",
      "metadata": {
        "colab": {
          "base_uri": "https://localhost:8080/"
        },
        "id": "tFhF7qAvH8fH",
        "outputId": "0da2d715-ff25-4fdf-c92d-c467f66eebed"
      },
      "source": [
        "accuracy_score(y_pred,y_test)"
      ],
      "execution_count": 17,
      "outputs": [
        {
          "output_type": "execute_result",
          "data": {
            "text/plain": [
              "0.8888888888888888"
            ]
          },
          "metadata": {
            "tags": []
          },
          "execution_count": 17
        },
        {
          "output_type": "stream",
          "text": [
            "time: 6.2 ms (started: 2021-03-30 13:56:10 +00:00)\n"
          ],
          "name": "stdout"
        }
      ]
    },
    {
      "cell_type": "code",
      "metadata": {
        "colab": {
          "base_uri": "https://localhost:8080/"
        },
        "id": "bVixEO6KH8VR",
        "outputId": "9a1b1bb2-f6fa-4825-c92e-2a27512aef11"
      },
      "source": [
        "confusion_matrix(y_pred,y_test)"
      ],
      "execution_count": 18,
      "outputs": [
        {
          "output_type": "execute_result",
          "data": {
            "text/plain": [
              "array([[8, 3, 0],\n",
              "       [0, 7, 0],\n",
              "       [0, 0, 9]])"
            ]
          },
          "metadata": {
            "tags": []
          },
          "execution_count": 18
        },
        {
          "output_type": "stream",
          "text": [
            "time: 6.96 ms (started: 2021-03-30 13:56:10 +00:00)\n"
          ],
          "name": "stdout"
        }
      ]
    },
    {
      "cell_type": "code",
      "metadata": {
        "colab": {
          "base_uri": "https://localhost:8080/"
        },
        "id": "IXpVL7B1IucG",
        "outputId": "80ceec7a-8d2b-4723-f591-22fe0d9d80f7"
      },
      "source": [
        "# Save model using pickle library \n",
        "import pickle \n",
        "pickle.dump(clf,open('img_model.p','wb'))"
      ],
      "execution_count": 19,
      "outputs": [
        {
          "output_type": "stream",
          "text": [
            "time: 27.1 ms (started: 2021-03-30 13:56:10 +00:00)\n"
          ],
          "name": "stdout"
        }
      ]
    },
    {
      "cell_type": "code",
      "metadata": {
        "colab": {
          "base_uri": "https://localhost:8080/"
        },
        "id": "OGI2Do70IuSX",
        "outputId": "efd296b2-6fa8-4eb4-f8e1-3d134b418652"
      },
      "source": [
        "model = pickle.load(open('img_model.p','rb'))"
      ],
      "execution_count": 20,
      "outputs": [
        {
          "output_type": "stream",
          "text": [
            "time: 13.4 ms (started: 2021-03-30 13:56:10 +00:00)\n"
          ],
          "name": "stdout"
        }
      ]
    },
    {
      "cell_type": "code",
      "metadata": {
        "colab": {
          "base_uri": "https://localhost:8080/",
          "height": 340
        },
        "id": "mowrc-fYIuD0",
        "outputId": "bdf656d1-f98d-451c-a021-842b6e5f93e5"
      },
      "source": [
        "# Testing a brand new image\n",
        "flat_data = []\n",
        "url = input('Enter your URL')\n",
        "img = imread(url)\n",
        "img_resized = resize(img,(150,150,3))\n",
        "flat_data.append(img_resized.flatten())\n",
        "flat_data = np.array(flat_data)\n",
        "print(img.shape)\n",
        "plt.imshow(img_resized)\n",
        "y_out = model.predict(flat_data)\n",
        "y_out = CATEGORIES[y_out[0]]\n",
        "print(f' PREDICTED OUTPUT: {y_out}')"
      ],
      "execution_count": 27,
      "outputs": [
        {
          "output_type": "stream",
          "text": [
            "Enter your URLhttps://images.unsplash.com/photo-1565299624946-b28f40a0ae38?ixlib=rb-1.2.1&ixid=MXwxMjA3fDB8MHxleHBsb3JlLWZlZWR8MXx8fGVufDB8fHw%3D&w=1000&q=80\n",
            "(1208, 1000, 3)\n",
            " PREDICTED OUTPUT: Cheesy Pizza\n"
          ],
          "name": "stdout"
        },
        {
          "output_type": "display_data",
          "data": {
            "image/png": "[encoded data removed]",
            "text/plain": [
              "<Figure size 432x288 with 1 Axes>"
            ]
          },
          "metadata": {
            "tags": [],
            "needs_background": "light"
          }
        },
        {
          "output_type": "stream",
          "text": [
            "time: 5.05 s (started: 2021-03-30 14:00:51 +00:00)\n"
          ],
          "name": "stdout"
        }
      ]
    }
  ]
}